





# load required packages
import netCDF4 as nc
import matplotlib.pyplot as plt
import cmocean 
import numpy as np
from matplotlib.ticker import MaxNLocator
from matplotlib import colors
import xarray as xr
from IPython.display import display, Math


file_norot        = 'entrainment_norot.nc'
file_norot        = 'entrainment_norot_5j.nc'
file_norot        = 'entrainment_norot_10j.nc'
#file_norot        = 'entrainment_norot_30j.nc'

file_rot        = 'entrainment_rot.nc'
file_rot        = 'entrainment_rot_5j.nc'
file_rot        = 'entrainment_rot_10j.nc'
#file_rot        = 'entrainment_rot_30j.nc'
g= 9.81



entrainment_rotdata = nc.Dataset(file_rot)         #  I use netCDF4 to convert the time date in second 
entrainment_rot = xr.open_dataset(file_rot)        #  I prefer use Xarray because it allow to better visualize the data (variable, shapes etc..)
entrainment_norotdata = nc.Dataset(file_norot)         #  I use netCDF4 to convert the time date in second 
entrainment_norot = xr.open_dataset(file_norot)        #  I prefer use Xarray because it allow to better visualize the data (variable, shapes etc..)


# model parameters (have to be consistent with gotm.yaml)
NN0     = 1.0e-4                    # initial NN 
lat_rot     = 45.0                      # latitude 
tx      = 0.1027                  # surface stress

# derived parameters
f_rot       = 4.*np.pi/86400.*np.sin(np.pi*lat_rot/180.)      # Coriolis parameter
us      = np.sqrt(tx/1027.)   # surface friction velocity


entrainment_norot





# extract variable for rotation
z             = entrainment_norot.variables['z'][:, :, 0, 0]
zi            = entrainment_norot.variables['zi'][:, :, 0, 0]
t             = entrainment_norotdata.variables['time'][:]
u_norot       = entrainment_norot.variables['u'][:, :, 0, 0]
v_norot       = entrainment_norot.variables['v'][:, :, 0, 0]
NN_norot      = entrainment_norotdata.variables['NN'][:, :, 0, 0]
u_taus_norot  = entrainment_norot.variables['u_taus'][:, 0, 0]
h_norot       = entrainment_norot.variables['mld_surf'][: , 0, 0]
rho_norot     = entrainment_norot.variables['rho'][: ,:, 0, 0]
Ekin_norot    = entrainment_norot.variables['Ekin'][: , 0, 0]
Epot_norot    = entrainment_norot.variables['Epot'][: , 0, 0]
Eturb_norot   = entrainment_norot.variables['Eturb'][: , 0, 0]
tke_norot     = entrainment_norot.variables['tke'][:, :, 0, 0]
eps_norot     = entrainment_norot.variables['eps'][:, :, 0, 0]
P_norot       = entrainment_norot.variables['P'][:, :, 0, 0]
G_norot       = entrainment_norot.variables['G'][:, :, 0, 0]
num_norot     = entrainment_norot.variables['num'][:, :, 0, 0]
nuh_norot     = entrainment_norot.variables['nuh'][:, :, 0, 0]
nus_norot     = entrainment_norot.variables['nus'][:, :, 0, 0]
avh_norot     = entrainment_norot.variables['avh'][:, :, 0, 0]
b_norot       = entrainment_norot.variables['buoy'][:, :, 0, 0]
cmue1_norot   = entrainment_norot.variables['cmue1'][:, :, 0, 0]

# extract variable for no rotation
z           = entrainment_rot.variables['z'][:, :, 0, 0]
zi          = entrainment_rot.variables['zi'][:, :, 0, 0]
t           = entrainment_rotdata.variables['time'][:]
u_rot       = entrainment_rot.variables['u'][:, :, 0, 0]
v_rot       = entrainment_rot.variables['v'][:, :, 0, 0]
nuh_rot     = entrainment_rot.variables['nuh'][:, :, 0, 0]
NN_rot      = entrainment_rotdata.variables['NN'][:, :, 0, 0]
u_taus_rot  = entrainment_rot.variables['u_taus'][:, 0, 0]
h_rot       = entrainment_rot.variables['mld_surf'][:, 0, 0]
rho_rot     = entrainment_rot.variables['rho'][: ,:, 0, 0]
T_rot       = entrainment_rot.variables['temp'][: ,:, 0, 0]
Ekin_rot    = entrainment_rot.variables['Ekin'][: , 0, 0]
Epot_rot    = entrainment_rot.variables['Epot'][: , 0, 0]
Eturb_rot   = entrainment_rot.variables['Eturb'][: , 0, 0]
Rig_rot     = entrainment_rot.variables['Rig'][: ,:, 0, 0]
Rif_rot     = entrainment_rot.variables['xRf'][: ,:, 0, 0]
tke_rot     = entrainment_rot.variables['tke'][:, :, 0, 0]
eps_rot     = entrainment_rot.variables['eps'][:, :, 0, 0]
P_rot       = entrainment_rot.variables['P'][:, :, 0, 0]
G_rot       = entrainment_rot.variables['G'][:, :, 0, 0]
num_rot     = entrainment_rot.variables['num'][:, :, 0, 0]
nuh_rot     = entrainment_rot.variables['nuh'][:, :, 0, 0]
nus_rot     = entrainment_rot.variables['nus'][:, :, 0, 0]
avh_rot     = entrainment_rot.variables['avh'][:, :, 0, 0]
b_rot       = entrainment_rot.variables['buoy'][:, :, 0, 0]
cmue1_rot   = entrainment_rot.variables['cmue1'][:, :, 0, 0]


dz = z[0,1].data-z[0,0].data
dt = t[1]-t[0]
NN0     = NN_rot[0,1]
NN0_norot =   NN_norot[0,1]
hours = 3600
hour=3600
f=f_rot

# %%%%%%%%%%%%% Definition temps inertiel %%%%%%%%%%%%%%%%
if file_norot        == 'entrainment_norot_5j.nc':
    Tf = 1/f
else:
    Tf = 5/f
iTf = np.argmin(np.abs(t-Tf))
#rho0=np.mean(rho_norot[0]).data
rho0=1024

# entrainment depth without rotation (Pollard et al., 1973; Price, 1979)
Rv      = 0.6    # bulk Richardson number  (set by Price 1979) 
h_poll_norot       = (2*Rv)**0.25 * us * (t/np.sqrt(NN0))**0.5












k_rot


##### Energire potentiel calculé a partir de la densité ######
Pe_rot  = np.sum(rho_rot*g*z*(z[0,1].data-z[0,0].data)  , axis=1)
Pe_norot  = np.sum(rho_norot*g*z*(dz)  , axis=1)

##### Energire potentiel calculé a partir de h ######
Epb_rot = (1/12*NN0*h_rot**3)*(rho0)
Epb_norot = (1/12*NN0*h_norot**3)*(rho0)

##### Energie potentiel calculé a partir de b ######
ep_rot = -z*b_rot
ep_norot = -z*b_norot


Ep_rot            = np.zeros(t.size)
Ep_norot          = np.zeros(t.size)
for i in range (len(t)):
    Ep_rot[i]     = np.sum((ep_rot[i,:])*dz)*rho0
    Ep_norot[i]   = np.sum((ep_norot[i,:])*dz)*rho0


##### Calcul de TKE #######
TKE_rot = np.sum(tke_rot*(z[0,1].data-z[0,0].data)  , axis=1)
TKE_norot = np.sum(tke_norot*(z[0,1].data-z[0,0].data)  , axis=1)

dPe_rot  = np.gradient(Pe_rot, axis=0)/dt
dEpot_rot = np.gradient(Epot_rot, axis=0)/dt
dTKE_rot = np.gradient(TKE_rot, axis=0)/dt

dPe_norot = np.gradient(Pe_norot, axis=0)/dt
dEpot_norot = np.gradient(Epot_norot, axis=0)/dt
dTKE_norot = np.gradient(TKE_norot, axis=0)/dt




plt.figure(figsize=(10, 6))
plt.plot(t/hours,dTKE_rot,'-', color='r', label=r'$Ep_{rot}$ Calculé a partir de $\rho$')
#plt.plot(t/hours,Eturb_rot/2/rho0,color='y', label=r'$Ep_{rot}$ Calculé a partir de b')

plt.legend()
plt.grid()





ke_rot = rho0*(u_rot**2+v_rot**2)*0.5
ke_norot = rho0*(u_norot**2+v_norot**2)*0.5

Ke_rot = np.sum(ke_rot*(z[0,1].data-z[0,0].data)  , axis=1)
Ke_norot = np.sum(ke_norot*(z[0,1].data-z[0,0].data)  , axis=1)


dKe_rot = np.gradient(Ke_rot, axis=0)/dt
dEkin_rot = np.gradient(Ekin_rot, axis=0)/dt
dKe_norot = np.gradient(Ke_norot, axis=0)/dt
dEkin_norot = np.gradient(Ekin_norot, axis=0)/dt

### Dans le code je devrais aussi deriver l'energie cinétique selon z donc je clarifie ici mes notations
dt_Ekin_rot = dEkin_rot
dt_Ekin_norot = dEkin_norot


## %%%%%%%%%%%%%%%    Moyenne sur plusieurs periodes inertielles  #############
dEk_rot_mean = np.ones(dEkin_rot.size)*np.mean(dEkin_rot[iTf:])
dEk_rot_abs = np.ones(dEkin_rot.size)*np.mean(np.abs(dEkin_rot[iTf:]))
dEp_rot_mean = np.ones(dEpot_rot.size)*np.mean(dEpot_rot[iTf:])
dTKE_rot_mean = np.ones(dTKE_rot.size)*np.mean(dTKE_rot[iTf:])




plt.figure(figsize=(10, 6))
plt.plot(t/hours,Pe_rot- Pe_rot[0]+Epot_rot[1],'-', color='r', label=r'$Ep_{rot}$ Calculé a partir de $\rho$')
plt.plot(t/hours,Ep_rot-Ep_rot[0].data+Epot_rot[1].data,'.',color='y', label=r'$Ep_{rot}$ Calculé a partir de b')
plt.plot(t[1:]/hours,Epot_rot[1:],'--', color='b',label='gotm')
plt.plot(t/hours,Epb_rot- Epb_rot[0]+Epot_rot[1],'-', color='g', label='$Epb_{rot}$ Analytique')
plt.legend()
plt.grid()
print(np.min((Pe_rot[1:]- Pe_rot[0]+Epot_rot[1])/Epot_rot[1:]))


plt.figure(figsize=(10, 6))
plt.plot(t/hours,Pe_norot- Pe_norot[0]+Epot_norot[1],'-', color='r', label=r'$Ep_{rot}$ Calculé a partir de $\rho$')
plt.plot(t/hours,Ep_norot- Ep_norot[0].data+Epot_norot[1].data,'.',color='y', label=r'$Ep_{rot}$ Calculé a partir de b')
plt.plot(t[1:]/hours,Epot_norot[1:],'--', color='b', label='gotm')
plt.plot(t/hours,Epb_norot- Epb_norot[0]+Epot_norot[1],'-', color='g', label='$Epb_{norot}$ Analytique')
plt.legend()
plt.grid()
print(np.min((Pe_norot[1:]- Pe_norot[0]+Epb_norot[1])/Epb_norot[1:]))









# plot all following profiles at time index iPlt
NT      = t.size
iPlt    = NT-1

#parametre of the plot
H       = - z[iPlt,0]


# plot contour plot of entire time series
fig1, (ax1, ax2 )= plt.subplots(2, figsize=(8, 8))
plt.subplots_adjust(hspace=0.2)
bprops = {'facecolor': 'white', 'edgecolor': 'none', 'pad': 2}     # text label box properties
# generate 1D z-axes for plotting (assuming that grid doesn't change)
z1D   = z[0, :]
zi1D  = zi[0, :]

hours = 3600
hour  = 3600
cmap = plt.cm.get_cmap('inferno')
levels = MaxNLocator(nbins=40).tick_values(-12, np.log10(eps_rot.max()))
CS1 = ax1.contourf(t/hour, zi1D,  np.log10(eps_rot.T), levels=levels, cmap=cmap)#cmocean.cm.thermal)
#ax1.plot(t/hour, -h_poll_rot, '--', color='white',label='Pollard et al. (1973)')
ax1.text(0.94, 0.03, 'A', verticalalignment='bottom', horizontalalignment='left',
         transform=ax1.transAxes, fontsize=14, bbox=bprops)
ax1.text(0.03, 0.03, r'$log(\epsilon)$', verticalalignment='bottom', horizontalalignment='left',
         backgroundcolor='w', transform=ax1.transAxes, fontsize=14, bbox=bprops)
ax1.legend(loc='lower center')
ax1.set_ylabel('z [m]', fontsize=14)
ax1.set_ylim([-H, 0])
ax1.tick_params(labelsize=14)
ax1.xaxis.set_ticklabels([])
colorbar = fig1.colorbar(CS1, ax=ax1)
tick_locator = MaxNLocator(nbins=5)
colorbar.locator = tick_locator
colorbar.update_ticks()

cmap = plt.cm.get_cmap('inferno')
levels = MaxNLocator(nbins=40).tick_values(-12,np.log10(eps_rot.max()))
CS2 = ax2.contourf(t/hour, zi1D,  np.log10(eps_norot.T), levels=levels, cmap=cmap)#cmocean.cm.thermal)
#ax2.plot(t/hour, -h_poll_norot, '--', color='white')
#ax2.axhline(y=-h_ref,color='white', linestyle='--')
ax2.text(0.94, 0.03, 'B', verticalalignment='bottom', horizontalalignment='left',
         backgroundcolor='w', transform=ax2.transAxes, fontsize=14, bbox=bprops)
ax2.text(0.03, 0.03, r'$log(\epsilon)$', verticalalignment='bottom', horizontalalignment='left',
         backgroundcolor='w', transform=ax2.transAxes, fontsize=14, bbox=bprops)
ax2.set_ylabel('z [m]', fontsize=14)
ax2.set_ylim([-H, 0])
ax2.tick_params(labelsize=14)
ax2.xaxis.set_ticklabels([])
colorbar2 = fig1.colorbar(CS2, ax=ax2)
tick_locator = MaxNLocator(nbins=5)
colorbar2.locator = tick_locator
colorbar2.update_ticks()




eps_rot


##### definition de (u.tau) et epsilon

dz = z[0,1].data-z[0,0].data

epsilon_rot = np.zeros(t.size)
epsilon_norot = np.zeros(t.size)



for i in range (len(t)):
    # reshape epsilon au centre des grilles 
    #epsilon_rot[i] = np.sum((0.5*(eps_rot[i,:-1]+eps_rot[i,1:])*dz))
    #epsilon_norot[i] = np.sum((0.5*(eps_norot[i,:-1]+eps_norot[i,1:])*dz))
    epsilon_norot[i] = np.sum(eps_norot[i,:-1]*dz)
    epsilon_rot[i] = np.sum(eps_rot[i,:-1]*dz)
    
    

U_rot = np.zeros(t.size)
U_norot = np.zeros(t.size)
V_rot = np.zeros(t.size)
V_norot = np.zeros(t.size)


U_norot[:] =u_norot[:,-1]
U_rot[:] =u_rot[:,-1]

V_norot[:] =v_norot[:,-1]
V_rot[:] =v_rot[:,-1]




plt.plot(t,U_rot)


t_12 = np.sqrt(t/hour)*epsilon_rot[1]
t_14 = (t/hour)**(1/4)/1e5
t_15 = (t/hour)**(1/6)
t_100 = (t/hour)**(1/100)*epsilon_rot[1]



fig,ax=  plt.subplots(1, figsize=(10, 6))
ax.plot(t/hour, U_norot*u_taus_norot**2,'.-', label='($U.tau$)with no rotation')
ax.plot(t/hour, t_12,color='k',alpha=0.7, label='$t^{(1/2)}$', linestyle='-.')
ax.plot(t[1:]/hours,epsilon_norot[1:],'.-', color='r',label='$\epsilon h$ with  no rotation (sans la surface)' )
ax.set_xscale('log')
ax.set_yscale('log')
ax.legend(loc='lower center')

ax.set_ylabel('[kg.m$^{-1}$s$^{-2}$]', fontsize=14)
ax.set_xlabel('$t$ [hours]', fontsize=14)
ax.tick_params(axis='both', labelsize=12)
ax.grid(which='both')

fig,ax=  plt.subplots(1, figsize=(10, 6))
ax.plot(t/hour, (U_rot*u_taus_rot**2),'.-', label=r'($U.\tau$)with rotation')
ax.plot(t/hour, t_100,color='k',alpha=0.7, label='$t^{(1/100)}$', linestyle='-.')
ax.plot(t[1:]/hours,epsilon_rot[1:],'.-', color='r',label='$\epsilon h $ with rotation' )
ax.set_xscale('log')
ax.set_yscale('log')
ax.legend(loc='lower center')

ax.set_ylabel('[kg.m$^{-1}$s$^{-2}$]', fontsize=14)
ax.set_xlabel('$t$ [hours]', fontsize=14)
ax.tick_params(axis='both', labelsize=12)
ax.grid(which='both')











np.nanmean((num_norot*eps_norot/(tke_norot**2)-cmue1_norot)),np.nanmax((num_norot*eps_norot/(tke_norot**2)/cmue1_norot))
#np.nanmin((num_rot*eps_rot/(tke_rot**2)/cmue1_norot)),np.nanmax((num_rot*eps_rot/(tke_rot**2)/cmue1_norot))


#c_mu = 0.1
c_mu=0.09
#k_rot = tke_rot*2 ; k_norot = tke_norot*2
k_rot = tke_rot ; k_norot = tke_norot

nu1_rot = cmue1_rot * (k_rot**2)/eps_rot
nu1_norot = cmue1_norot * (k_norot**2)/eps_norot
nu_rot = num_rot
nu_norot = num_norot
#nu_rot = cmue1_rot * (k_rot**2)/eps_rot
#nu_norot = cmue1_norot * (k_norot**2)/eps_norot



#### reshape nu sur la grille z ####  voir markdown plus bas      
#nu_rot = (nu_rot[:,:-1]+nu_rot[:,1:])/2
#nu_norot = (nu_norot[:,:-1]+nu_norot[:,1:])/2
nu_rot = nu_rot[:,1:-1]
nu_norot = nu_norot[:,1:-1]



print('La moyenne de eddy viscuosity est de {}'.format(np.mean(nu_rot).data))








def boundarie_space(a): 
    bound = a[:,-1] 
    a=np.pad(a,((0,0),(1,1)))
    a[:,-1]= bound
    return a
    
def boundarie_time(a):
    """
    Modifie la taille d'un array (rendre sa taille apres un np.diff) en assumant 
    que la derniere rangé est identiques  àla précedente
    Ajoute une rangée à la fin du tableau 'a' en copiant la dernière rangée,
    et renvoie le tableau résultant.
    
    Parameters:
    a (numpy.ndarray): Tableau 2D à modifier.

    Returns:
    numpy.ndarray: Tableau 2D avec une rangée ajoutée à la fin.
    """

    # Récupération de la dernière rangée du tableau 'a'
    bound = a[-1, :]

    # Ajout d'une rangée supplémentaire à la fin du tableau 'a' en copiant la dernière rangée
    a = np.pad(a, ((0, 1), (0, 0)))
    a[-1, :] = bound

    return a 





nu_rot = num_rot
#nu_rot[:,-1] =np.ones(nu_rot[0,-1].shape)*nu_rot[0,-1]
nu_rot[:,-1] = num_rot[:,-2]
nu_norot = num_norot
#nu_norot[:,-1] =np.ones(nu_norot[0,-1].shape)*nu_norot[0,-1]
nu_norot[:,-1] = num_norot[:,-2]

##### Parametre de l'integration #####
H=-z[0,0]
dz  = np.abs(z[0,0].data-z[0,1].data)
dt = hours

#### Derivé temporel ######
dt_u_rot    = np.gradient(u_rot, axis = 0)/dt
dt_u_norot  = np.gradient(u_norot, axis = 0)/dt
dt_v_rot    = np.gradient(v_rot, axis = 0)/dt
# dt_Ke_rot ; dt_Ke_norot  sont definit plus haut avec l'energie potentiel, on à casi egalité entre celle que je calcul et la sortie de gotm
#Dt_Ke_rot   = dKe_rot/rho0
#Dt_Ke_norot = dKe_norot/rho0
dt_ke_rot   =  np.gradient(ke_rot/rho0, axis = 0)/dt    #ke_ etait en kg.m-1s-2, il faut donc normaliser par rho 
dt_ke_norot =  np.gradient(ke_norot/rho0, axis = 0)/dt
dt_tke_rot  =  np.gradient(k_rot, axis = 0)/dt 
dt_tke_norot=  np.gradient(k_norot, axis = 0)/dt 

#### Derivé selon z ######
dz_u_rot        =  np.diff(u_rot, axis = 1)/dz
dz_u_rot        =  np.pad(dz_u_rot,((0,0),(1,1)))
dz_u_rot[:,-1]  = (tx/1027)/nu_rot[:,-1].data

dz_v_rot        =  np.diff(v_rot, axis = 1)/dz
dz_v_rot        =  np.pad(dz_v_rot,((0,0),(1,1)))

dz_u_norot      =  np.diff(u_norot, axis = 1)/dz
dz_u_norot      =  np.pad(dz_u_norot,((0,0),(1,1)))
dz_u_norot[:,-1]= (tx/1027)/nu_norot[:,-1].data

nudz_u_rot = nu_rot*dz_u_rot
#nudz_u_rot[:,-2:-1] = (tx/1027)*dz

nudz_u_norot = nu_norot*dz_u_norot
#nudz_u_norot[:,-2:-1] = (tx/1027)*dz


#e1_rot          = np.diff(nu_rot*dz_u_rot, axis=1)/dz
e1_rot          = np.diff(nudz_u_rot, axis=1)/dz
#e1_rot[:,-1]  = (tx/1027)
e1_norot        = np.diff(nudz_u_norot, axis=1)/dz


dz_ke_rot       = np.diff(ke_rot/rho0, axis = 1)/dz     #ke_ etait en kg.m-1s-2, il faut donc normalisé par rho 
dz_ke_rot      =  np.pad(dz_ke_rot,((0,0),(1,1)))
dz_ke_rot[:,-1]= (U_rot*(tx/1027))/nu_rot[:,-1].data

dz_ke_norot     = np.diff(ke_norot/rho0, axis = 1)/dz
dz_ke_norot      =  np.pad(dz_ke_norot,((0,0),(1,1)))
dz_ke_norot[:,-1]= (U_norot*u_taus_norot**2)/nu_norot[:,-1].data

nudz_ke_rot = nu_rot*dz_ke_rot
nudz_ke_norot = nu_norot*dz_ke_norot

e2_rot          = np.diff(nudz_ke_rot, axis=1)/dz
e2_norot        = np.diff(nudz_ke_norot, axis=1)/dz
#e2_norot[:,-1]  = (U_norot*(tx/1027))
#### Integrale sur la colonne d'eau : #### 
# Vitesse 
u_rot_int    = np.zeros(t.size)
v_rot_int    = np.zeros(t.size)
Dt_u_rot     = np.zeros(t.size)
Dt_v_rot     = np.zeros(t.size)
Dt_u_norot   = np.zeros(t.size)
Dz_u_rot     = np.zeros(t.size)
Dz_u_norot   = np.zeros(t.size)
Dz_v_rot     = np.zeros(t.size)

# Energie
Dz_Ke_rot    = np.zeros(t.size)
Dz_Ke_norot  = np.zeros(t.size)
Dt_Ke_rot    = np.zeros(t.size)
Dt_Ke_norot  = np.zeros(t.size)
Dt_Tke_rot    = np.zeros(t.size)
Dt_Tke_norot  = np.zeros(t.size)

#Autres 
Nu_rot       = np.zeros(t.size)
Nu_norot     = np.zeros(t.size)
E1_rot       = np.zeros(t.size)
E1_norot     = np.zeros(t.size)
E2_rot       = np.zeros(t.size)
E2_norot     = np.zeros(t.size)


for i in range (len(t)):

    u_rot_int[i]    = np.sum((u_rot[i,:])*dz)
    v_rot_int[i]    = np.sum((v_rot[i,:])*dz)
    Dt_u_rot[i]     = np.sum((dt_u_rot[i,:])*dz)
    Dt_u_norot[i]   = np.sum((dt_u_norot[i,:])*dz)
    Dt_v_rot[i]     = np.sum((dt_v_rot[i,:])*dz)
    
    Dz_u_rot[i]     = np.sum((dz_u_rot[i,:])*dz)
    Dz_u_norot[i]   = np.sum((dz_u_norot[i,:])*dz)
    Dz_v_rot[i]     = np.sum((dz_v_rot[i,:])*dz)
    
    Dt_Ke_rot[i]    = np.sum((dt_ke_rot[i,:])*dz)
    Dt_Ke_norot[i]  = np.sum((dt_ke_norot[i,:])*dz)

    Dt_Tke_rot[i]    = np.sum((dt_tke_rot[i,:])*dz)
    Dt_Tke_norot[i]  = np.sum((dt_tke_norot[i,:])*dz)
    
    
    Dz_Ke_rot[i]    = np.sum((dz_ke_rot[i,:])*dz)
    Dz_Ke_norot[i]  = np.sum((dz_ke_norot[i,:])*dz)

    E1_rot[i]       = np.sum((e1_rot[i,:])*dz)
    E1_norot[i]     = np.sum((e1_norot[i,:])*dz)
    E2_rot[i]       = np.sum((e2_rot[i,:])*dz)
    E2_norot[i]     = np.sum((e2_norot[i,:])*dz)
    
    Nu_rot[i]       = np.sum((nu_rot[i,:])*dz)
    Nu_norot[i]     = np.sum((nu_norot[i,:])*dz)

####### Moyenne sur les periodes inertielles 
Dt_u_rot_mean = np.ones(Dt_u_rot.size)*np.mean(Dt_u_rot[iTf:])
Dt_v_rot_mean = np.ones(Dt_v_rot.size)*np.mean(Dt_v_rot[iTf:])
U_rot_mean = np.ones(U_rot.size)*np.mean(U_rot[iTf:])
V_rot_mean = np.ones(V_rot.size)*np.mean(V_rot[iTf:])

#Dt_u_rot_mean = np.ones(Dt_u_rot.size)*np.mean(np.abs(Dt_u_rot[iTf:]))
Rhs_rot_mean = np.ones(Rhs_rot.size)*np.mean((Rhs_rot[iTf:]))


plt.plot(t,U_rot+V_rot)








print('Dt_u_norot=[' , np.min(Dt_u_norot),np.max(Dt_u_norot),']')
print('tau =', tx/1027)







plt.figure(figsize=(10, 6))
plt.plot(t/hours,Dt_u_norot,'-', color='r', label='$\partial_t u + fv$')
plt.plot(t[1:]/hours,E1_norot[1:],'-', color='k', label=r'$\partial_z ( \nu_t \partial_z \overline{u})$')
plt.plot(t/hours,np.ones(t.size)*tx/1027,'--', color='b',label=r'$\tau$')
plt.ylim(0.000099,0.000101)
plt.legend()
plt.text(0.03, 0.85, 'No rotation', verticalalignment='bottom', horizontalalignment='left',
         backgroundcolor='w', transform=ax.transAxes, fontsize=14, bbox=bprops)
plt.ylabel('[m.s$^{-2}$]', fontsize=14)
plt.xlabel('$t$ [hours]', fontsize=14)
plt.grid()








plt.figure(figsize=(10, 6))
plt.plot(t[:-1]/hours,Dt_u_rot[:-1]-f*v_rot_int[:-1],'-', color='k', label=r'$\partial_t u-fv$')
plt.plot(t[:]/hours,E1_rot[:],'-', color='r', label=r'$\partial_z ( \nu_t \partial_z \overline{u})$')
plt.plot(t/hours,np.ones(t.size)*tx/1027,'--', color='b',label=r'$\tau$')
plt.ylim(0.00008,0.00012)
plt.legend(loc='lower right')
plt.text(0.03, 0.85, 'With Rotation', verticalalignment='bottom', horizontalalignment='left',
         backgroundcolor='w', transform=ax.transAxes, fontsize=14, bbox=bprops)
plt.ylabel('[m.s$^{-2}$]', fontsize=14)
plt.xlabel('$t$ [hours]', fontsize=14)
plt.grid()


print('Dt_u_rot - fv-rot=[' , np.min(Dt_u_rot-f*v_rot_int),np.max(Dt_u_rot-f*v_rot_int),']')
print('tau =', tx/1027)

plt.figure(figsize=(10, 6))

plt.plot(t[1:]/hours,Dt_v_rot[1:]+f*u_rot_int[1:],'-', color='k', label=r'$\partial_t v-fu$')
plt.plot(t/hours,np.zeros(t.size),'--', color='b',label=r'$\tau_y=0$')
plt.ylim(-0.00002,0.00002)
plt.legend(loc='lower right')
plt.text(0.03, 0.85, 'With Rotation', verticalalignment='bottom', horizontalalignment='left',
         backgroundcolor='w', transform=ax.transAxes, fontsize=14, bbox=bprops)
plt.ylabel('[m.s$^{-2}$]', fontsize=14)
plt.xlabel('$t$ [hours]', fontsize=14)
plt.grid()










dz_u_rot[:,-1]  = (tx/1027)
dz_u_norot[:,-1]  = (tx/1027)
e3_rot = (nu_rot*((dz_u_rot**2)+(dz_v_rot**2)))

#e3_rot = (tx/1027*(dz_u_rot))+nu_rot*dz_v_rot**2
e3_norot = (nu_norot*dz_u_norot**2)
#e3_norot = (tx/1027*dz_u_norot)

#### Integrale sur la colonne d'eau : #### 
E3_rot   = np.zeros(t.size)
E3_norot = np.zeros(t.size)
P_rot_int = np.zeros(t.size)
P_norot_int = np.zeros(t.size)

for i in range (len(t)):
    
    E3_rot[i] = np.sum((e3_rot[i,:])*dz)
    E3_norot[i] = np.sum((e3_norot[i,:])*dz)
    
    P_rot_int[i] = np.sum((0.5*(P_rot[i,1:]+P_rot[i,:-1]))*dz)
    P_norot_int[i] = np.sum((0.5*(P_norot[i,1:]+P_norot[i,:-1]))*dz)
    #epsilon_norot[i] = np.sum((eps_norot[i, :surf])*dz*np.mean(rho_rot))



##### Plot #####
plt.figure(figsize=(10, 6))
plt.plot(t/hours,P_rot_int,'-', color='r', label='P Shear production')
plt.plot(t/hours,(U_rot*(tx/1027)),'-',label=r'($U.\tau)$')
plt.plot(t/hours,E3_rot,'--', color='b',label=r'$\nu_t ((\partial_z \overline{u})^2+(\partial_z \overline{v})^2)$ - Rotation')
plt.legend(loc='lower right')
plt.text(0.03, 0.85, 'With Rotation', verticalalignment='bottom', horizontalalignment='left',
         backgroundcolor='w', transform=ax.transAxes, fontsize=14, bbox=bprops)
plt.ylabel('[m$^{2}$.s$^{-3}$]', fontsize=14)
plt.xlabel('$t$ [hours]', fontsize=14)
plt.grid()

plt.figure(figsize=(10, 6))
plt.plot(t/hours,P_norot_int,'-', color='r', label='P Shear production')
plt.plot(t/hours,E3_norot,'--', color='b',label=r'$\nu_t (\partial_z \overline{u})^2$ - No Rotation')
plt.plot(t/hours,(U_norot*(tx/1027)),'-',label=r'($U.\tau)$')
plt.text(0.03, 0.85, 'No Rotation', verticalalignment='bottom', horizontalalignment='left',
         backgroundcolor='w', transform=ax.transAxes, fontsize=14, bbox=bprops)
plt.ylabel('[m$^{2}$.s$^{-3}$]', fontsize=14)
plt.xlabel('$t$ [hours]', fontsize=14)
plt.legend(loc='lower right')
plt.grid()











plt.figure(figsize=(10, 6))
plt.plot(t/hours,E3_norot,'--',label=r'$\nu_t (\partial_z \overline{u})^2$')
plt.plot(t/hours,-E2_norot,'--',label=r'$-\partial_z ( \nu_t \partial_z e_{kin})$ ')
plt.plot(t/hours,Dt_Ke_norot,'--',label=r'$\partial_t e_{kin}$ ')
plt.plot(t/hours,Dt_Ke_norot -E2_norot+E3_norot,'-',label=r'Somme ')
plt.text(0.03, 0.85, 'No Rotation', verticalalignment='bottom', horizontalalignment='left',
         backgroundcolor='w', transform=ax.transAxes, fontsize=14, bbox=bprops)
plt.ylabel('[m$^{2}$.s$^{-3}$]', fontsize=14)
plt.xlabel('t [hours]', fontsize=14)
plt.legend(loc='lower left')
plt.grid()


plt.figure(figsize=(10, 6))
plt.plot(t/hours,E3_norot,'--',label=r'$\nu_t (\partial_z \overline{u})^2$')
plt.plot(t/hours,-E2_norot,'--',label=r'$-\partial_z ( \nu_t \partial_z e_{kin})$ ')
plt.plot(t/hours,Dt_Ke_norot,'--',label=r'$\partial_t e_{kin}$ ')
plt.plot(t/hours,Dt_Ke_norot -E2_norot+E3_norot,'-',label=r'Somme ')
plt.text(0.03, 0.85, 'No Rotation', verticalalignment='bottom', horizontalalignment='left',
         backgroundcolor='w', transform=ax.transAxes, fontsize=14, bbox=bprops)
plt.ylabel('[m$^{2}$.s$^{-3}$]', fontsize=14)
plt.xlabel('t [hours]', fontsize=14)
plt.legend(loc='lower left')
plt.grid()





Dt_Ke_rot_meaned =np.ones(Dt_Ke_rot.size)*np.mean((Dt_Ke_rot)[iTf:])



plt.figure(figsize=(10, 6))
plt.plot(t/hours,E3_rot,'-.',label=r'$\nu_t (\partial_z \overline{u})^2$ ')
plt.plot(t/hours,-E2_rot,'--',label=r'$-\partial_z ( \nu_t \partial_z e_{kin})$ ')
plt.plot(t/hours,Dt_Ke_rot,'.-',label=r'$\partial_t e_{kin}$ ')
#plt.plot(t/hours,np.ones(Dt_Ke_rot.size)*np.mean((Dt_Ke_rot -E2_rot+E3_rot)[iTf:]),'.-',label=r'Somme meaned on inertials periodes')
plt.plot(t/hours,Dt_Ke_rot -E2_rot+E3_rot,'-',label=r'Somme ')
plt.text(0.04, 0.9, 'With Rotation', verticalalignment='bottom', horizontalalignment='left',
         backgroundcolor='w', transform=ax.transAxes, fontsize=14, bbox=bprops)
plt.ylabel('[m$^{2}$.s$^{-3}$]', fontsize=14)
plt.xlabel('t [hours]', fontsize=14)
plt.legend(loc='lower right')
plt.grid()











nuh_rot


##### Parametre de l'integration #####
H=-z[0,0]
dz  = np.abs(z[0,0].data-z[0,1].data)
dt = hours

##### calcul de nu'
Pr0 = 0.74
#Pr0 = 2.8
nu_prime_rot = nuh_rot#nu_rot/Pr0
nu_prime_norot = nuh_norot#nu_norot/Pr0

#### Derivé temporel ######
dt_b_rot    = np.gradient(b_rot, axis = 0)/dt
dt_b_norot  = np.gradient(b_norot, axis = 0)/dt
Dt_Ep_rot   = np.gradient(Ep_rot/rho0)/dt           #Ep_ etait en kg.m-1s-2, il faut donc normalisé par rho 
Dt_Ep_norot = np.gradient(Ep_norot/rho0)/dt


#### Derivé selon z ######

dz_b_rot      = np.diff(b_rot, axis = 1)/dz
dz_b_rot      =  np.pad(dz_b_rot,((0,0),(1,1)))
#dz_b_rot[:,-1]  = (tx/1027)/nu_rot[:,-1].data
dz_b_norot    = np.diff(b_norot, axis = 1)/dz
dz_b_norot    =  np.pad(dz_b_norot,((0,0),(1,1)))

#f1_rot      = np.diff(nu_prime_rot*dz_b_rot, axis=1)/dz
#f1_norot    = np.diff(nu_prime_norot*dz_b_norot, axis=1)/dz
f1_rot      = nu_prime_rot*dz_b_rot
f1_norot    = nu_prime_norot*dz_b_norot

f2_rot      = np.diff(f1_rot, axis = 1)/dz
f2_norot    = np.diff(f1_norot, axis = 1)/dz
f3_rot      = np.diff(-zi*f1_rot, axis = 1)/dz
f3_norot    = np.diff(-zi*f1_norot, axis = 1)/dz


#### Integrale sur la colonne d'eau : #### 
Dt_b_rot     = np.zeros(t.size)
Dt_b_norot   = np.zeros(t.size)

Dz_b_rot     = np.zeros(t.size)
Dz_b_norot   = np.zeros(t.size)


#Autres 
Nu_prime_rot       = np.zeros(t.size)
Nu_prime_norot     = np.zeros(t.size)
F1_rot             = np.zeros(t.size)
F1_norot           = np.zeros(t.size)
F2_rot             = np.zeros(t.size)
F2_norot           = np.zeros(t.size)
F3_rot             = np.zeros(t.size)
F3_norot           = np.zeros(t.size)

for i in range (len(t)):

    Dz_b_rot[i]     = np.sum((dz_b_rot[i,:])*dz)
    Dz_b_norot[i]   = np.sum((dz_b_norot[i,:])*dz)
    Dt_b_rot[i]     = np.sum((dt_b_rot[i,:])*dz)
    Dt_b_norot[i]   = np.sum((dt_b_norot[i,:])*dz)
    
    
    
    F1_rot[i]       = np.sum((f1_rot[i,:])*dz)
    F1_norot[i]     = np.sum((f1_norot[i,:])*dz)
    F2_rot[i]       = np.sum((f2_rot[i,:])*dz)
    F2_norot[i]     = np.sum((f2_norot[i,:])*dz)
    F3_rot[i]       = np.sum((f3_rot[i,:])*dz)
    F3_norot[i]     = np.sum((f3_norot[i,:])*dz)
    
    Nu_prime_rot[i]       = np.sum((nu_prime_rot[i,:])*dz)
    Nu_prime_norot[i]     = np.sum((nu_prime_norot[i,:])*dz)




#### Teste de \partial_t b = \partial_z ( \nu_t' \partial_z b) = f2####

plt.figure(figsize=(10, 6))
plt.plot(t/hours,Dt_b_norot,'-', color='r', label='$\partial_t b$')
plt.plot(t[1:]/hours,F2_norot[1:],'--', color='b',label=r"$\partial_z (\nu_t'\partial_z b)$")
plt.text(0.04, 0.9, 'No Rotation', verticalalignment='bottom', horizontalalignment='left',
         backgroundcolor='w', transform=ax.transAxes, fontsize=14, bbox=bprops)
plt.ylabel('[m$^{2}$.s$^{-3}$]', fontsize=14)
plt.xlabel('t [hours]', fontsize=14)
plt.legend(loc='lower right')
plt.grid()

plt.figure(figsize=(10, 6))
plt.plot(t/hours, Dt_b_rot,'-', color='r', label='$\partial_t b$')
plt.plot(t[1:]/hours,F2_rot[1:],'--', color='b',label=r"$\partial_z (\nu_t'\partial_z b)$")
plt.text(0.04, 0.9, 'With Rotation', verticalalignment='bottom', horizontalalignment='left',
         backgroundcolor='w', transform=ax.transAxes, fontsize=14, bbox=bprops)
plt.ylabel('[m.s$^{-3}$]', fontsize=14)
plt.xlabel('t [hours]', fontsize=14)
plt.legend(loc='lower right')
plt.grid()









G_rot_int = np.zeros(t.size)
G_norot_int = np.zeros(t.size)

for i in range (len(t)):

    G_rot_int[i] = np.sum((0.5*(G_rot[i,1:]+G_rot[i,:-1]))*dz)
    G_norot_int[i] = np.sum((0.5*(G_norot[i,1:]+G_norot[i,:-1]))*dz)
    #epsilon_norot[i] = np.sum((eps_norot[i, :surf])*dz*np.mean(rho_rot))



plt.figure(figsize=(10, 6))
plt.plot(t/hours,-G_rot_int,'-', color='r', label='Buoyancy production')
plt.plot(t/hours,Dt_Ep_rot,'-', color='g', label='$\partial_t EP$')
plt.plot(t/hours,F1_rot,'--', color='b',label=r'$\nu_t(\partial_z b)$ - Rotation')
plt.text(0.04, 0.9, 'With Rotation', verticalalignment='bottom', horizontalalignment='left',
         backgroundcolor='w', transform=ax.transAxes, fontsize=14, bbox=bprops)
plt.ylabel('[m$^{2}$.s$^{-3}$]', fontsize=14)
plt.xlabel('t [hours]', fontsize=14)
plt.legend(loc='lower right')
plt.grid()

plt.figure(figsize=(10, 6))
plt.plot(t/hours,-G_norot_int,'-', color='r', label='Buoyancy production')
plt.plot(t/hours,Dt_Ep_norot,'-', color='g', label='$\partial_t EP$')
plt.plot(t/hours,F1_norot,'--', color='b',label=r'$\nu_t(\partial_z b)$ - No Rotation')
plt.text(0.04, 0.9, 'No Rotation', verticalalignment='bottom', horizontalalignment='left',
         backgroundcolor='w', transform=ax.transAxes, fontsize=14, bbox=bprops)
plt.ylabel('[m$^{2}$.s$^{-3}$]', fontsize=14)
plt.xlabel('t [hours]', fontsize=14)
plt.legend(loc='lower right')
plt.grid()





### Plot de \partial_t Pe -F3 = F1=-G #####

plt.figure(figsize=(10, 6))
plt.plot(t/hours,Dt_Ep_norot,'--', label='$\partial_t e_{pot}$')
plt.plot(t/hours,-F3_norot,'--', label=r"$-\partial_z ((-z) \nu'_t \partial_z \overline{b})$")
plt.plot(t/hours,-F1_norot,'--', label=r"$- \nu'_t (\partial_z b)$")
plt.plot(t/hours,Dt_Ep_norot-F3_norot-F1_norot,'-',label=r"$\partial_t e_{pot} -  \partial_z ((-z) \nu'_t \partial_z b) - \nu'_t (\partial_z b)$")

plt.text(0.04, 0.9, 'No Rotation', verticalalignment='bottom', horizontalalignment='left',
         backgroundcolor='w', transform=ax.transAxes, fontsize=14, bbox=bprops)
plt.ylabel('[m$^{2}$.s$^{-3}$]', fontsize=14)
plt.xlabel('t [hours]', fontsize=14)
plt.legend(loc='lower right')
plt.grid()

plt.figure(figsize=(10, 6))
plt.plot(t/hours,Dt_Ep_rot,'--', label='$\partial_t e_{pot}$')
plt.plot(t/hours,-F3_rot,'--', label=r"$-\partial_z ((-z) \nu'_t \partial_z \overline{b})$")
plt.plot(t/hours,-F1_rot,'--', label=r"$- \nu'_t (\partial_z b)$")
plt.plot(t/hours,Dt_Ep_rot-F3_rot-F1_rot,'-',label=r"$\partial_t e_{pot} -  \partial_z ((-z) \nu'_t \partial_z b) - \nu'_t (\partial_z b)$")

plt.text(0.04, 0.9, 'With Rotation', verticalalignment='bottom', horizontalalignment='left',
         backgroundcolor='w', transform=ax.transAxes, fontsize=14, bbox=bprops)
plt.ylabel('[m$^{2}$.s$^{-3}$]', fontsize=14)
plt.xlabel('t [hours]', fontsize=14)
plt.legend(loc='lower right')
plt.grid()












plt.figure(figsize=(10, 6))
plt.plot(t/hours,-G_rot_int,'-', color='r', label='Buoyancy production')
plt.plot(t/hours,P_rot_int,'--', color='b',label='Shear production')
#plt.plot(t/hours,Eturb_rot/rho0,'--', color='g',label='Shear production')
plt.legend()
plt.grid()

plt.figure(figsize=(10, 6))
plt.plot(t/hours,-G_norot_int,'-', color='r', label='Buoyancy production')
plt.plot(t/hours,P_norot_int,'--', color='b',label='Shear production')
#plt.plot(t/hours,Eturb_norot/rho0,'--', color='g',label='Shear production')
plt.legend()
plt.grid()














plt.figure(figsize=(10, 6))
plt.plot(t/hours,Dt_Ke_norot, 'r', label = '$\partial_t Ke $' ) 
plt.plot(t/hours, Dt_Ep_norot,label='$\partial_t Epot$')
plt.plot(t/hours,(U_norot*u_taus_norot**2), label='($U.tau$)')
plt.plot(t/hours,G_norot_int,label='$G$')
plt.plot(t/hour,P_norot_int , label='$P$')
somme_norot = Dt_Ke_norot+Dt_Ep_norot-(U_norot*u_taus_norot**2)+G_norot_int+P_norot_int

plt.plot(t/hour,somme_norot ,'k', label='$somme$')
plt.grid()
plt.xlabel('Hours')
plt.ylabel('$[kg^{-1}m^2s^{-3}]$')
plt.text(0.14, 0.9, 'No Rotation', verticalalignment='bottom', horizontalalignment='left',
         backgroundcolor='w', transform=ax.transAxes, fontsize=14, bbox=bprops)
plt.legend()
plt.show()

plt.figure(figsize=(10, 6))
plt.plot(t/hours,Dt_Ke_rot, 'r', label = '$\partial_t Ke $' ) 
plt.plot(t/hours, Dt_Ep_rot,label='$\partial_t Epot$')
plt.plot(t/hours,(U_rot*u_taus_rot**2), label='($U.tau$)')
plt.plot(t/hours,G_rot_int,label='$G$')
plt.plot(t/hour,P_rot_int , label='$P$')
somme_rot = Dt_Ke_rot+Dt_Ep_rot-(U_rot*u_taus_rot**2)+G_rot_int+P_rot_int

plt.plot(t/hour,somme_rot ,'k', label='$somme$')
plt.grid()
plt.xlabel('Hours')
plt.ylabel('$[kg^{-1}m^2s^{-3}]$')
plt.text(0.04, 0.9, 'With Rotation', verticalalignment='bottom', horizontalalignment='left',
         backgroundcolor='w', transform=ax.transAxes, fontsize=14, bbox=bprops)
plt.legend(loc='lower right')
plt.show()


plt.figure(figsize=(10, 6))
plt.plot(t/hours,epsilon_norot,label='$\epsilon $')
plt.plot(t/hour,Dt_Tke_norot , label='$\partial_t TKE $') 
plt.plot(t/hours,G_norot_int,label='$G$')
plt.plot(t/hour,P_norot_int , label='$P$')
somme_norot = Dt_Tke_norot -G_norot_int-P_norot_int+epsilon_norot
plt.plot(t/hour,somme_norot ,'k', label='$somme$')
plt.grid()
plt.xlabel('Hours')
plt.ylabel('$[kg^{-1}m^2s^{-3}]$')
plt.text(0.04, 0.9, 'No Rotation', verticalalignment='bottom', horizontalalignment='left',
         backgroundcolor='w', transform=ax.transAxes, fontsize=14, bbox=bprops)
plt.legend(loc='center right')
plt.show()

plt.figure(figsize=(10, 6))
plt.plot(t/hours,epsilon_rot,label='$\epsilon $')
plt.plot(t/hour,Dt_Tke_rot , label='$\partial_t TKE $') 
plt.plot(t/hours,G_rot_int,label='$G$')
plt.plot(t/hour,P_rot_int , label='$P$')
somme_rot = Dt_Tke_rot -G_rot_int-P_rot_int+epsilon_rot
plt.plot(t/hour,somme_rot ,'k', label='$somme$')
plt.grid()
plt.xlabel('Hours')
plt.ylabel('$[kg^{-1}m^2s^{-3}]$')
plt.text(0.04, 0.9, 'With Rotation', verticalalignment='bottom', horizontalalignment='left',
         backgroundcolor='w', transform=ax.transAxes, fontsize=14, bbox=bprops)
plt.legend(loc='center right')
plt.show()





plt.figure(figsize=(10, 6))
plt.plot(t/hours,Dt_Ke_norot, 'r', label = '$\partial_t Ke $' ) 
plt.plot(t/hours, Dt_Ep_norot,label='$\partial_t Epot$')
plt.plot(t/hours,epsilon_norot,label='$\epsilon $')
plt.plot(t/hours,(U_norot*u_taus_norot**2), label='($U.tau$)')
plt.plot(t/hour,Dt_Tke_norot , label='$\partial_t TKE $')
somme_norot = Dt_Ke_norot+Dt_Ep_norot-(U_norot*u_taus_norot**2)-Dt_Tke_norot+epsilon_norot
plt.plot(t/hour,somme_norot ,'k', label='$somme$')
plt.grid()
plt.xlabel('Hours')
plt.ylabel('$[kg^{-1}m^2s^{-3}]$')
plt.text(0.14, 0.9, 'No Rotation', verticalalignment='bottom', horizontalalignment='left',
         backgroundcolor='w', transform=ax.transAxes, fontsize=14, bbox=bprops)
plt.legend()
plt.show()

plt.figure(figsize=(10, 6))
plt.plot(t/hours,Dt_Ke_rot, 'r', label = '$\partial_t Ke $' ) 
plt.plot(t/hours, Dt_Ep_rot,label='$\partial_t Epot$')
plt.plot(t/hours,epsilon_rot,label='$\epsilon $')
plt.plot(t/hours,(U_rot*u_taus_rot**2), label='($U.tau$)')
plt.plot(t/hour,Dt_Tke_rot , label='$\partial_t TKE $')
somme_rot = Dt_Ke_rot+Dt_Ep_rot-(U_rot*u_taus_rot**2)-Dt_Tke_rot+epsilon_rot
plt.plot(t/hour,somme_rot ,'k', label='$somme$')
plt.grid()
plt.xlabel('Hours')
plt.ylabel('$[kg^{-1}m^2s^{-3}]$')
plt.text(0.04,0.01, 'With Rotation', verticalalignment='bottom', horizontalalignment='left',
         backgroundcolor='w', transform=ax.transAxes, fontsize=14, bbox=bprops)
plt.legend(loc='lower right')
plt.show()


######### Without rotation ############

Dt_Ke_rot_meaned = np.ones(Dt_Ke_rot.shape)*np.mean(Dt_Ke_rot[-3*iTf:])
U_rot_meaned = np.ones(U_rot.shape)*np.mean(U_rot[-3*iTf:])
# Assuming you have arrays for each budget component
labels = ['$\partial_t Ke$', '$\partial_t Epot$','$\partial_t TKE$', '$-\epsilon.h$', '($U.tau$)']


# Assuming you have arrays for each budget component
data = np.array([Dt_Ke_norot, Dt_Ep_norot, Dt_Tke_norot, -epsilon_norot, +(U_norot*u_taus_norot**2)])
# Extracting the last values of each array
last_values = data[:, -1]

# Adding a bar for the total sum of the last values
total_sum = np.sum(data[:2, -1])-np.sum(data[2:, -1])
last_values = np.append(last_values, total_sum)
labels.append('Total')

# Generating distinct colors for each bar
colors = plt.cm.viridis(np.linspace(0, 1, len(labels)))

# Plotting the histogram
plt.figure(figsize=(10, 6))
plt.grid()
plt.bar(labels, last_values, color=colors,edgecolor='black', linewidth=1)

plt.xlabel('Budget Components - No Rotation')
plt.ylabel('[kg$^{-1}$m$^{2}$s$^{-3}$]')
plt.show()



######### With rotation ############

# Assuming you have arrays for each budget component
labels = ['$\partial_t Ke$', '$\partial_t Epot$','$\partial_t TKE$', '$-\epsilon.h$', '($U.tau$)']


# Assuming you have arrays for each budget component
data = np.array([Dt_Ke_rot_meaned, Dt_Ep_rot, Dt_Tke_rot, -epsilon_rot, (U_rot_meaned*u_taus_rot**2)])
# Extracting the last values of each array
last_values = data[:, -1]

# Adding a bar for the total sum of the last values
total_sum = np.sum(last_values)
last_values = np.append(last_values, total_sum)
labels.append('Total')

# Generating distinct colors for each bar
colors = plt.cm.viridis(np.linspace(0, 1, len(labels)))

# Plotting the histogram
plt.figure(figsize=(10, 6))
plt.grid()
plt.bar(labels, last_values, color=colors,edgecolor='black', linewidth=1)

plt.xlabel('Budget Components - With Rotation')
plt.ylabel('[kg$^{-1}$m$^{2}$s$^{-3}$]')


plt.show()




Gamma=0.5
alpha = 1
#Gamma=t_14[1:]*alpha
plt.figure(figsize=(10, 6))
#plt.plot(t[1:]/hours, Epot_rot[1:],'.-', color='r', linewidth=1,label='$Epot_{rot}$')

plt.plot(t/hours, Gamma* epsilon_rot/h_rot ,'.-', color='b', linewidth=1,label='$\Gamma * \epsilon$')
plt.plot(t/hours,  Dt_Ep_rot,'.-', color='r', linewidth=1,label='$\partial_t$ E_pot')
#plt.plot(t[2:]/hours, dEpot_rot[2:]+dEkin_rot[2:] - (a+1/1.5)*(U_rot[2:]*u_taus_rot[2:]**2)*rho0,'.-', color='b', linewidth=1,label='$\partial_t Ekin_{rot}+\partial_t Ekin_{rot}$- In built')
#plt.plot(t[0:]/hours, dt_Ke_rot[0:]+dPe_rot[0:] - (a+1/1.5)*(U_rot*u_taus_rot**2)*rho0 ,'.-', color='r', linewidth=1,label='$\partial_t Ekin_{rot}+\partial_t Ekin_{rot}$ - calculated')
plt.legend()
plt.grid()



plt.figure(figsize=(10, 6))
#plt.plot(t[1:]/hours, Epot_rot[1:],'.-', color='r', linewidth=1,label='$Epot_{rot}$')

plt.plot(t[1:]/hours,epsilon_rot/h_rot ,'.-', color='b', linewidth=1,label='$\Gamma * \epsilon$')
#plt.plot(t/hours, Dt_Ep_rot,'.-', color='r', linewidth=1,label='$\partial_t$ E_pot')
#plt.plot(t[2:]/hours, dEpot_rot[2:]+dEkin_rot[2:] - (a+1/1.5)*(U_rot[2:]*u_taus_rot[2:]**2)*rho0,'.-', color='b', linewidth=1,label='$\partial_t Ekin_{rot}+\partial_t Ekin_{rot}$- In built')
#plt.plot(t[0:]/hours, dt_Ke_rot[0:]+dPe_rot[0:] - (a+1/1.5)*(U_rot*u_taus_rot**2)*rho0 ,'.-', color='r', linewidth=1,label='$\partial_t Ekin_{rot}+\partial_t Ekin_{rot}$ - calculated')
plt.legend()
plt.grid()














# %%%%%%%%%%%%%%%%%%%%%%% Calcul des cisaillements  %%%%%%%%%%%%%%%%%%%%%
dudz_rot = np.diff(u_rot,axis=1)/dz
dudz_norot = np.diff(u_norot,axis=1)/dz
dvdz_rot = np.diff(v_rot,axis=1)/dz
dvdz_norot = np.diff(v_norot,axis=1)/dz

# %%%%%%%%%%%%%%%%%%%%%%%  Ri avec rotation  %%%%%%%%%%%%%%%%%%%%%%
#Ri_rot = NN_rot[:,:-1]**2/dudz_rot**2
Ri_rot = NN_rot[:,:-1]/(dudz_rot**2+dvdz_rot**2)

# %%%%%%%%%%%%%%%%%%%%%%%  Ri sans rotation  %%%%%%%%%%%%%%%%%%%%%%

Ri_norot = NN_norot[:,:-1]/dudz_norot**2

Ri_rot_sup = np.where((z<-h_rot),np.nan,Ri_rot)
#Ri_rot_sup





# plot contour plot of entire time series
fig1, (ax1, ax2 )= plt.subplots(2 ,figsize=(12, 8))
plt.subplots_adjust(hspace=0.2)
bprops = {'facecolor': 'white', 'edgecolor': 'none', 'pad': 2}
# generate 1D z-axes for plotting (assuming that grid doesn't change)
z1D   = z[0, :]
zi1D  = zi[0, :]


# plot all following profiles at time index iPlt
NT      = t.size
iPlt    = NT-1

# water depth
H       = - z[iPlt,0]

# entrainment depth without rotation (Pollard et al., 1973; Price, 1979)
Rv      = 0.6    # bulk Richardson number
h_poll_norot   = (2*Rv)**0.25 * us * (t/np.sqrt(NN0))**0.5

# entrainment depth with rotation (Pollard et al., 1973)
Rv      = 1.0    # bulk Richardson number
h_poll_rot       = us * ( ( 4*Rv*(1.0 - np.cos(f * t)) ) / ( f**2.0 * NN0 ) )**0.25
h_ref   = (8*Rv)**0.25 * us / ( f*np.sqrt(NN0) )**0.5

h_poll_rot[np.where(t > np.pi/f)] = h_ref



hours = 3600
hour  = 3600
cmap = plt.cm.get_cmap('inferno')
#levels = MaxNLocator(nbins=40).tick_values(np.log10(Ri_rot).min(), np.log10(Ri_rot).max())
levels = MaxNLocator(nbins=40).tick_values(np.log10(1/4), np.log10(1000))
CS1 = ax1.contourf(t/hour, z1D,  np.log10(Ri_rot).T, levels=levels, cmap=cmap)#cmocean.cm.thermal)
ax1.plot(t/hour, -h_poll_rot, '--', color='k',label='Pollard et al. (1973)')
ax1.plot(t/hour, -h_rot, '--', color='k',label='Pollard et al. (1973)')
#ax1.plot(t/hour,-h_norot.data,color= 'b', linewidth=1, label = 'MLD' )
ax1.text(0.94, 0.03, 'A', verticalalignment='bottom', horizontalalignment='left',
         transform=ax1.transAxes, fontsize=14, bbox=bprops)
ax1.text(0.03, 0.03, r'$\log(Ri (rot))$', verticalalignment='bottom', horizontalalignment='left',
         backgroundcolor='w', transform=ax1.transAxes, fontsize=14, bbox=bprops)
ax1.legend(loc='lower center')
ax1.set_ylabel('z [m]', fontsize=14)
ax1.set_ylim([-H+40, 0])
#ax1.set_ylim([-30, -10])
ax1.tick_params(labelsize=14)
ax1.set_xlabel('$t$ [hours]', fontsize=14)
colorbar = fig1.colorbar(CS1, ax=ax1)
tick_locator = MaxNLocator(nbins=5)
colorbar.locator = tick_locator
colorbar.update_ticks()


cmap = plt.cm.get_cmap('inferno')
#levels = MaxNLocator(nbins=40).tick_values(np.log10(Ri_rot_bis).min(), np.log10(Ri_rot_bis).max())
levels = MaxNLocator(nbins=40).tick_values(np.log10(1/4), np.log10(1000))
CS2 = ax2.contourf(t/hour, z1D,  np.log10(Ri_norot).T, levels=levels, cmap=cmap)#cmocean.cm.thermal)
ax2.plot(t/hour, -h_poll_norot, '--', color='k')

ax2.text(0.94, 0.03, 'B', verticalalignment='bottom', horizontalalignment='left',
         backgroundcolor='w', transform=ax2.transAxes, fontsize=14, bbox=bprops)
ax2.text(0.03, 0.03, r'$\log(Ri(no rot))$', verticalalignment='bottom', horizontalalignment='left',
         backgroundcolor='w', transform=ax2.transAxes, fontsize=14, bbox=bprops)
ax2.set_ylabel('z [m]', fontsize=14)
ax2.set_ylim([-H, 0])
#ax2.set_ylim([-30, -10])
ax2.tick_params(labelsize=14)
ax2.set_xlabel('$t$ [hours]', fontsize=14)
colorbar2 = fig1.colorbar(CS2, ax=ax2)
tick_locator = MaxNLocator(nbins=5)
colorbar2.locator = tick_locator
colorbar2.update_ticks()




idh_rot = np.zeros(len(t),dtype=np.int64)
idh_norot = np.zeros(len(t),dtype=np.int64)
for i in range (len(t)):
    idh_rot[i]= np.argmin(np.abs(z[i].data+h_rot[i].data))
    idh_norot[i]= np.argmin(np.abs(z[i].data+h_norot[i].data))
np.shape(idh_rot)
np.max(idh_rot)


Ri_interface_rot= np.zeros((len(t),15))
Ri_interface_norot= np.zeros((len(t),15))
for i in range (1,len(t)):
    j1 = idh_rot[i]
    j2 = idh_norot[i]
    R1 = Ri_rot[i,j1-7:j1+8].data
    R2 = Ri_norot[i,j2-7:j2+8].data
    
    Ri_interface_rot[i] =R1
    Ri_interface_norot[i] =R2




# plot contour plot of entire time series
fig1, (ax1, ax2 )= plt.subplots(2 ,figsize=(12, 8))
plt.subplots_adjust(hspace=0.2)
bprops = {'facecolor': 'white', 'edgecolor': 'none', 'pad': 2}
# generate 1D z-axes for plotting (assuming that grid doesn't change)
z1D   = z[0, :]
zi1D  = zi[0, :]
Z_interface = np.arange(-7,8,1)


cmap = plt.cm.get_cmap('inferno')
#levels = MaxNLocator(nbins=40).tick_values(np.log10(Ri_rot).min(), np.log10(Ri_rot).max())
#levels = MaxNLocator(nbins=40).tick_values(np.log10(1/4), np.log(100))#np.log10(Ri_rot).max())
levels = MaxNLocator(nbins=40).tick_values(np.log10(1/4), np.log10(1000))
CS1 = ax1.contourf(t/hour, Z_interface,  np.log10(Ri_interface_rot).T, levels=levels, cmap=cmap)#cmocean.cm.thermal)
#ax1.plot(t/hour, -h_poll_rot, '--', color='k',label='Pollard et al. (1973)')
#ax1.plot(t/hour, -h_rot, '--', color='k',label='Pollard et al. (1973)')
#ax1.plot(t/hour,-h_norot.data,color= 'b', linewidth=1, label = 'MLD' )
ax1.text(0.94, 0.03, 'A', verticalalignment='bottom', horizontalalignment='left',
         transform=ax1.transAxes, fontsize=14, bbox=bprops)
ax1.text(0.03, 0.03, r'$\log(Ri (rot))$', verticalalignment='bottom', horizontalalignment='left',
         backgroundcolor='w', transform=ax1.transAxes, fontsize=14, bbox=bprops)
ax1.legend(loc='lower center')
ax1.set_ylabel('z [m] (centred on h)', fontsize=14)
#ax1.set_ylim([-H, 0])
#ax1.set_ylim([-30, -10])
ax1.tick_params(labelsize=14)
ax1.set_xlabel('$t$ [hours]', fontsize=14)
colorbar = fig1.colorbar(CS1, ax=ax1)
tick_locator = MaxNLocator(nbins=5)
colorbar.locator = tick_locator
colorbar.update_ticks()


cmap = plt.cm.get_cmap('inferno')
#levels = MaxNLocator(nbins=40).tick_values(np.log10(Ri_rot_bis).min(), np.log10(Ri_rot_bis).max())
levels = MaxNLocator(nbins=40).tick_values(np.log10(1/4), np.log10(1000))
CS2 = ax2.contourf(t/hour, Z_interface,  np.log10(Ri_interface_norot).T, levels=levels, cmap=cmap)#cmocean.cm.thermal)

#ax2.plot(t/hour, -h_poll_norot, '--', color='k')

ax2.text(0.94, 0.03, 'B', verticalalignment='bottom', horizontalalignment='left',
         backgroundcolor='w', transform=ax2.transAxes, fontsize=14, bbox=bprops)
ax2.text(0.03, 0.03, r'$\log(Ri(no rot))$', verticalalignment='bottom', horizontalalignment='left',
         backgroundcolor='w', transform=ax2.transAxes, fontsize=14, bbox=bprops)
ax2.set_ylabel('z [m] (centred on h)', fontsize=14)
#ax2.set_ylim([-H, 0])
#ax2.set_ylim([-30, -10])
ax2.tick_params(labelsize=14)
ax2.set_xlabel('$t$ [hours]', fontsize=14)
colorbar2 = fig1.colorbar(CS2, ax=ax2)
tick_locator = MaxNLocator(nbins=5)
colorbar2.locator = tick_locator
colorbar2.update_ticks()











