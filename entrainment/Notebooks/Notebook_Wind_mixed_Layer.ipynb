{
 "cells": [
  {
   "cell_type": "markdown",
   "metadata": {},
   "source": [
    "# Scaling of the Wind-mixed layer in presence of rotation"
   ]
  },
  {
   "cell_type": "markdown",
   "metadata": {},
   "source": [
    "Dans ce Notebook nous allons verifier les lois analytiques de l'approfondissement de la couche de mélange soumis à un forçage unidirectionnel de vent dans un referentiel tournant."
   ]
  },
  {
   "cell_type": "code",
   "execution_count": 2,
   "metadata": {},
   "outputs": [],
   "source": [
    "# load required packages\n",
    "import netCDF4 as nc\n",
    "import matplotlib.pyplot as plt\n",
    "import cmocean \n",
    "import numpy as np\n",
    "import matplotlib.image as mpimg\n",
    "from matplotlib.ticker import MaxNLocator\n",
    "from matplotlib import colors\n",
    "import xarray as xr\n",
    "from matplotlib.colors import ListedColormap\n",
    "\n",
    "from IPython.display import display, Math\n",
    "bprops = {'facecolor': 'white', 'edgecolor': 'none', 'pad': 2}"
   ]
  },
  {
   "cell_type": "markdown",
   "metadata": {},
   "source": [
    "Nous allons tester nos loi sur deux experiences à $f/N$ différents\n",
    "\n",
    "Les deux simulation ont un N identique, seul le parametre de Coriolis, $f$ varie\n"
   ]
  },
  {
   "cell_type": "code",
   "execution_count": 45,
   "metadata": {},
   "outputs": [],
   "source": [
    "file_fn_max     = '../entrainment.nc'              # lat = 90deg; f= 1e-5 ; NN = 1e-4\n",
    "file_fn_min     = '../entrainment_rot_10j_bis.nc'  # lat=  45deg ;f= 1e-5; NN = 1e-4\n",
    "\n",
    "tx      = 0.1027                  # surface stress\n",
    "us      = np.sqrt(tx/1027.)   # surface friction velocity\n",
    "kappa = 0.41\n",
    "def coriolis (lat):\n",
    "    return 4.*np.pi/86400.*np.sin(np.pi*lat/180.) \n",
    "f_u20 = coriolis(10)\n",
    "f_min = coriolis(45)\n",
    "f_max = coriolis(90)\n",
    "\n",
    "NN0 =  1e-4\n",
    "NN_max = NN0\n",
    "NN_min = NN0\n",
    "\n",
    "\n",
    "entrainment_fn_maxdata = nc.Dataset(file_fn_max)         #  I use netCDF4 to convert the time date in second \n",
    "entrainment_fn_max = xr.open_dataset(file_fn_max) \n",
    "entrainment_fn_mindata = nc.Dataset(file_fn_min)      #  I prefer use Xarray because it allow to better visualize the data (variable, shapes etc..)\n",
    "entrainment_fn_min = xr.open_dataset(file_fn_min)\n",
    "\n",
    "z_fn           = entrainment_fn_max.variables['z'][:, :, 0, 0]\n",
    "zi_fn          = entrainment_fn_max.variables['zi'][:, :, 0, 0]\n",
    "t_fn           = entrainment_fn_maxdata.variables['time'][:]\n",
    "t_fnmin           = entrainment_fn_mindata.variables['time'][:]\n",
    "t_fnmax           = entrainment_fn_maxdata.variables['time'][:]\n",
    "NN_fn_max      = entrainment_fn_maxdata.variables['NN'][:, :, 0, 0]\n",
    "NN_fn_min      = entrainment_fn_mindata.variables['NN'][:, :, 0, 0]\n",
    "h_fn_max       = entrainment_fn_max.variables['mld_surf'][: , 0, 0]\n",
    "h_fn_min       = entrainment_fn_min.variables['mld_surf'][: , 0, 0]\n",
    "P_fn_max       = entrainment_fn_max.variables['P'][:, :, 0, 0]\n",
    "P_fn_min       = entrainment_fn_min.variables['P'][:, :, 0, 0]\n",
    "G_fn_max       = entrainment_fn_max.variables['G'][:, :, 0, 0]\n",
    "G_fn_min       = entrainment_fn_min.variables['G'][:, :, 0, 0]\n",
    "eps_max        = entrainment_fn_max.variables['eps'][:, :, 0, 0]\n",
    "eps_min        = entrainment_fn_min.variables['eps'][:, :, 0, 0]\n",
    "num_max        = entrainment_fn_max.variables['num'][:, :, 0, 0]\n",
    "num_min        = entrainment_fn_min.variables['num'][:, :, 0, 0]\n",
    "u_max          = entrainment_fn_max.variables['u'][:, :, 0, 0]\n",
    "u_min          = entrainment_fn_min.variables['u'][:, :, 0, 0]\n",
    "v_max          = entrainment_fn_max.variables['v'][:, :, 0, 0]\n",
    "v_min          = entrainment_fn_min.variables['v'][:, :, 0, 0]\n",
    "rho_min        = entrainment_fn_min.variables['rho'][: ,:, 0, 0]\n",
    "rho_max        = entrainment_fn_max.variables['rho'][: ,:, 0, 0]"
   ]
  },
  {
   "cell_type": "markdown",
   "metadata": {},
   "source": [
    "## Verification de l'expression de U\n",
    "\n",
    "at $t = 0$ \n",
    "$$ U=\\int_0^{-H} udz = \\frac{u_*^2}{f}\\sin(ft)$$\n",
    "\n",
    "et \n",
    "$$ u(z,t)/u_* = Ro \\sin(ft) -\\frac{1}{\\kappa}\\ln(\\frac{-z}{h}-1)$$\n",
    "\n",
    "avec $ Ro = \\frac{u_*}{fh(t)}$\n",
    "\n"
   ]
  },
  {
   "cell_type": "code",
   "execution_count": 82,
   "metadata": {},
   "outputs": [
    {
     "data": {
      "text/plain": [
       "1"
      ]
     },
     "execution_count": 82,
     "metadata": {},
     "output_type": "execute_result"
    }
   ],
   "source": [
    "h_fn_max[-1].size"
   ]
  },
  {
   "cell_type": "code",
   "execution_count": 110,
   "metadata": {},
   "outputs": [
    {
     "data": {
      "text/plain": [
       "array([-2.71710372e+00, -2.71386051e+00, -2.71061277e+00, -2.70736074e+00,\n",
       "       -2.70410466e+00, -2.70084381e+00, -2.69757843e+00, -2.69430923e+00,\n",
       "       -2.69103551e+00, -2.68775702e+00, -2.68447423e+00, -2.68118739e+00,\n",
       "       -2.67789578e+00, -2.67459965e+00, -2.67129946e+00, -2.66799450e+00,\n",
       "       -2.66468501e+00, -2.66137123e+00, -2.65805268e+00, -2.65473008e+00,\n",
       "       -2.65140224e+00, -2.64807034e+00, -2.64473367e+00, -2.64139271e+00,\n",
       "       -2.63804722e+00, -2.63469672e+00, -2.63134170e+00, -2.62798214e+00,\n",
       "       -2.62461805e+00, -2.62124944e+00, -2.61787558e+00, -2.61449742e+00,\n",
       "       -2.61111474e+00, -2.60772729e+00, -2.60433507e+00, -2.60093784e+00,\n",
       "       -2.59753633e+00, -2.59412980e+00, -2.59071875e+00, -2.58730268e+00,\n",
       "       -2.58388162e+00, -2.58045602e+00, -2.57702565e+00, -2.57359076e+00,\n",
       "       -2.57015061e+00, -2.56670547e+00, -2.56325555e+00, -2.55980086e+00,\n",
       "       -2.55634141e+00, -2.55287695e+00, -2.54940724e+00, -2.54593277e+00,\n",
       "       -2.54245353e+00, -2.53896952e+00, -2.53548002e+00, -2.53198552e+00,\n",
       "       -2.52848625e+00, -2.52498221e+00, -2.52147269e+00, -2.51795840e+00,\n",
       "       -2.51443863e+00, -2.51091385e+00, -2.50738454e+00, -2.50384974e+00,\n",
       "       -2.50030971e+00, -2.49676442e+00, -2.49321413e+00, -2.48965883e+00,\n",
       "       -2.48609829e+00, -2.48253250e+00, -2.47896123e+00, -2.47538495e+00,\n",
       "       -2.47180367e+00, -2.46821666e+00, -2.46462464e+00, -2.46102715e+00,\n",
       "       -2.45742464e+00, -2.45381665e+00, -2.45020318e+00, -2.44658446e+00,\n",
       "       -2.44296002e+00, -2.43933082e+00, -2.43569589e+00, -2.43205571e+00,\n",
       "       -2.42840981e+00, -2.42475843e+00, -2.42110181e+00, -2.41743970e+00,\n",
       "       -2.41377187e+00, -2.41009879e+00, -2.40641975e+00, -2.40273571e+00,\n",
       "       -2.39904571e+00, -2.39535022e+00, -2.39164925e+00, -2.38794231e+00,\n",
       "       -2.38423014e+00, -2.38051200e+00, -2.37678838e+00, -2.37305903e+00,\n",
       "       -2.36932373e+00, -2.36558294e+00, -2.36183643e+00, -2.35808396e+00,\n",
       "       -2.35432601e+00, -2.35056186e+00, -2.34679222e+00, -2.34301662e+00,\n",
       "       -2.33923507e+00, -2.33544803e+00, -2.33165479e+00, -2.32785559e+00,\n",
       "       -2.32405043e+00, -2.32023978e+00, -2.31642294e+00, -2.31259966e+00,\n",
       "       -2.30877066e+00, -2.30493569e+00, -2.30109501e+00, -2.29724789e+00,\n",
       "       -2.29339457e+00, -2.28953552e+00, -2.28567004e+00, -2.28179884e+00,\n",
       "       -2.27792120e+00, -2.27403712e+00, -2.27014732e+00, -2.26625109e+00,\n",
       "       -2.26234889e+00, -2.25844002e+00, -2.25452495e+00, -2.25060368e+00,\n",
       "       -2.24667621e+00, -2.24274230e+00, -2.23880219e+00, -2.23485518e+00,\n",
       "       -2.23090219e+00, -2.22694302e+00, -2.22297716e+00, -2.21900463e+00,\n",
       "       -2.21502566e+00, -2.21104026e+00, -2.20704865e+00, -2.20305014e+00,\n",
       "       -2.19904518e+00, -2.19503355e+00, -2.19101524e+00, -2.18699074e+00,\n",
       "       -2.18295932e+00, -2.17892122e+00, -2.17487621e+00, -2.17082453e+00,\n",
       "       -2.16676664e+00, -2.16270161e+00, -2.15862966e+00, -2.15455079e+00,\n",
       "       -2.15046549e+00, -2.14637327e+00, -2.14227414e+00, -2.13816786e+00,\n",
       "       -2.13405466e+00, -2.12993503e+00, -2.12580800e+00, -2.12167406e+00,\n",
       "       -2.11753297e+00, -2.11338472e+00, -2.10923004e+00, -2.10506773e+00,\n",
       "       -2.10089850e+00, -2.09672213e+00, -2.09253836e+00, -2.08834767e+00,\n",
       "       -2.08414984e+00, -2.07994461e+00, -2.07573223e+00, -2.07151222e+00,\n",
       "       -2.06728530e+00, -2.06305075e+00, -2.05880904e+00, -2.05456018e+00,\n",
       "       -2.05030322e+00, -2.04603934e+00, -2.04176784e+00, -2.03748870e+00,\n",
       "       -2.03320241e+00, -2.02890825e+00, -2.02460647e+00, -2.02029729e+00,\n",
       "       -2.01598048e+00, -2.01165628e+00, -2.00732374e+00, -2.00298381e+00,\n",
       "       -1.99863613e+00, -1.99428105e+00, -1.98991787e+00, -1.98554659e+00,\n",
       "       -1.98116767e+00, -1.97678101e+00, -1.97238660e+00, -1.96798396e+00,\n",
       "       -1.96357322e+00, -1.95915473e+00, -1.95472813e+00, -1.95029378e+00,\n",
       "       -1.94585109e+00, -1.94140005e+00, -1.93694115e+00, -1.93247414e+00,\n",
       "       -1.92799902e+00, -1.92351556e+00, -1.91902351e+00, -1.91452348e+00,\n",
       "       -1.91001534e+00, -1.90549862e+00, -1.90097356e+00, -1.89643979e+00,\n",
       "       -1.89189780e+00, -1.88734770e+00, -1.88278878e+00, -1.87822127e+00,\n",
       "       -1.87364495e+00, -1.86906040e+00, -1.86446738e+00, -1.85986543e+00,\n",
       "       -1.85525477e+00, -1.85063517e+00, -1.84600699e+00, -1.84137034e+00,\n",
       "       -1.83672452e+00, -1.83206999e+00, -1.82740617e+00, -1.82273400e+00,\n",
       "       -1.81805253e+00, -1.81336212e+00, -1.80866265e+00, -1.80395377e+00,\n",
       "       -1.79923642e+00, -1.79450965e+00, -1.78977358e+00, -1.78502846e+00,\n",
       "       -1.78027368e+00, -1.77551031e+00, -1.77073729e+00, -1.76595485e+00,\n",
       "       -1.76116300e+00, -1.75636148e+00, -1.75155103e+00, -1.74673092e+00,\n",
       "       -1.74190116e+00, -1.73706210e+00, -1.73221254e+00, -1.72735417e+00,\n",
       "       -1.72248590e+00, -1.71760786e+00, -1.71272027e+00, -1.70782232e+00,\n",
       "       -1.70291483e+00, -1.69799745e+00, -1.69307017e+00, -1.68813312e+00,\n",
       "       -1.68318546e+00, -1.67822814e+00, -1.67326069e+00, -1.66828310e+00,\n",
       "       -1.66329563e+00, -1.65829730e+00, -1.65328896e+00, -1.64827049e+00,\n",
       "       -1.64324152e+00, -1.63820255e+00, -1.63315248e+00, -1.62809229e+00,\n",
       "       -1.62302148e+00, -1.61794043e+00, -1.61284852e+00, -1.60774565e+00,\n",
       "       -1.60263240e+00, -1.59750843e+00, -1.59237397e+00, -1.58722830e+00,\n",
       "       -1.58207154e+00, -1.57690406e+00, -1.57172573e+00, -1.56653655e+00,\n",
       "       -1.56133604e+00, -1.55612421e+00, -1.55090141e+00, -1.54566741e+00,\n",
       "       -1.54042256e+00, -1.53516603e+00, -1.52989781e+00, -1.52461851e+00,\n",
       "       -1.51932812e+00, -1.51402593e+00, -1.50871205e+00, -1.50338638e+00,\n",
       "       -1.49804938e+00, -1.49270093e+00, -1.48734045e+00, -1.48196816e+00,\n",
       "       -1.47658360e+00, -1.47118759e+00, -1.46577990e+00, -1.46035981e+00,\n",
       "       -1.45492768e+00, -1.44948304e+00, -1.44402659e+00, -1.43855834e+00,\n",
       "       -1.43307734e+00, -1.42758405e+00, -1.42207801e+00, -1.41656017e+00,\n",
       "       -1.41102946e+00, -1.40548623e+00, -1.39993036e+00, -1.39436150e+00,\n",
       "       -1.38878047e+00, -1.38318646e+00, -1.37757945e+00, -1.37195957e+00,\n",
       "       -1.36632633e+00, -1.36068082e+00, -1.35502183e+00, -1.34934962e+00,\n",
       "       -1.34366429e+00, -1.33796525e+00, -1.33225358e+00, -1.32652819e+00,\n",
       "       -1.32078934e+00, -1.31503725e+00, -1.30927050e+00, -1.30349123e+00,\n",
       "       -1.29769778e+00, -1.29189062e+00, -1.28606987e+00, -1.28023446e+00,\n",
       "       -1.27438557e+00, -1.26852250e+00, -1.26264524e+00, -1.25675428e+00,\n",
       "       -1.25084829e+00, -1.24492836e+00, -1.23899400e+00, -1.23304510e+00,\n",
       "       -1.22708201e+00, -1.22110367e+00, -1.21511102e+00, -1.20910358e+00,\n",
       "       -1.20308161e+00, -1.19704437e+00, -1.19099188e+00, -1.18492460e+00,\n",
       "       -1.17884231e+00, -1.17274511e+00, -1.16663218e+00, -1.16050363e+00,\n",
       "       -1.15436006e+00, -1.14820087e+00, -1.14202642e+00, -1.13583601e+00,\n",
       "       -1.12962985e+00, -1.12340748e+00, -1.11716950e+00, -1.11091602e+00,\n",
       "       -1.10464561e+00, -1.09835982e+00, -1.09205711e+00, -1.08573842e+00,\n",
       "       -1.07940364e+00, -1.07305157e+00, -1.06668377e+00, -1.06029844e+00,\n",
       "       -1.05389726e+00, -1.04747868e+00, -1.04104292e+00, -1.03459084e+00,\n",
       "       -1.02812088e+00, -1.02163446e+00, -1.01513040e+00, -1.00860894e+00,\n",
       "       -1.00207007e+00, -9.95513082e-01, -9.88939285e-01, -9.82347310e-01,\n",
       "       -9.75737512e-01, -9.69109714e-01, -9.62463439e-01, -9.55799818e-01,\n",
       "       -9.49117541e-01, -9.42416966e-01, -9.35697854e-01, -9.28960204e-01,\n",
       "       -9.22203898e-01, -9.15428817e-01, -9.08634901e-01, -9.01821971e-01,\n",
       "       -8.94989967e-01, -8.88138711e-01, -8.81268263e-01, -8.74378324e-01,\n",
       "       -8.67468894e-01, -8.60539854e-01, -8.53591025e-01, -8.46622407e-01,\n",
       "       -8.39633763e-01, -8.32625091e-01, -8.25596154e-01, -8.18546951e-01,\n",
       "       -8.11477304e-01, -8.04387093e-01, -7.97276258e-01, -7.90144563e-01,\n",
       "       -7.82992005e-01, -7.75818408e-01, -7.68623650e-01, -7.61407554e-01,\n",
       "       -7.54170120e-01, -7.46911108e-01, -7.39630401e-01, -7.32327938e-01,\n",
       "       -7.25003541e-01, -7.17657030e-01, -7.10288405e-01, -7.02897370e-01,\n",
       "       -6.95483923e-01, -6.88047886e-01, -6.80589080e-01, -6.73107386e-01,\n",
       "       -6.65603101e-01, -6.58074796e-01, -6.50523663e-01, -6.42949045e-01,\n",
       "       -6.35350823e-01, -6.27729297e-01, -6.20082974e-01, -6.12413108e-01,\n",
       "       -6.04718983e-01, -5.97000539e-01, -5.89258075e-01, -5.81489980e-01,\n",
       "       -5.73698044e-01, -5.65880179e-01, -5.58037639e-01, -5.50170243e-01,\n",
       "       -5.42276502e-01, -5.34358025e-01, -5.26412845e-01, -5.18442154e-01,\n",
       "       -5.10445833e-01, -5.02422214e-01, -4.94373113e-01, -4.86296386e-01,\n",
       "       -4.78193760e-01, -4.70063686e-01, -4.61905897e-01, -4.53721732e-01,\n",
       "       -4.45509046e-01, -4.37269568e-01, -4.29001659e-01, -4.20705646e-01,\n",
       "       -4.12381321e-01, -4.04027998e-01, -3.95646930e-01, -3.87236506e-01,\n",
       "       -3.78796965e-01, -3.70328099e-01, -3.61829251e-01, -3.53301674e-01,\n",
       "       -3.44743669e-01, -3.36155534e-01, -3.27537060e-01, -3.18888038e-01,\n",
       "       -3.10208231e-01, -3.01497400e-01, -2.92755365e-01, -2.83981889e-01,\n",
       "       -2.75176704e-01, -2.66339660e-01, -2.57470459e-01, -2.48568892e-01,\n",
       "       -2.39634722e-01, -2.30667710e-01, -2.21667603e-01, -2.12634161e-01,\n",
       "       -2.03567132e-01, -1.94466278e-01, -1.85331345e-01, -1.76162049e-01,\n",
       "       -1.66958168e-01, -1.57719418e-01, -1.48445547e-01, -1.39136285e-01,\n",
       "       -1.29791334e-01, -1.20410457e-01, -1.10993356e-01, -1.01539753e-01,\n",
       "       -9.20493677e-02, -8.25219080e-02, -7.29570836e-02, -6.33546039e-02,\n",
       "       -5.37141748e-02, -4.40354832e-02, -3.43182348e-02, -2.45621167e-02,\n",
       "       -1.47668160e-02, -4.93201939e-03,  4.94259503e-03,  1.48570584e-02,\n",
       "        2.48122811e-02,  3.48085985e-02,  4.48454618e-02,  5.49243949e-02,\n",
       "        6.50445521e-02,  7.52071738e-02,  8.54126215e-02,  9.56603438e-02,\n",
       "        1.05951913e-01,  1.16286486e-01,  1.26665339e-01,  1.37088537e-01,\n",
       "        1.47556484e-01,  1.58069849e-01,  1.68628111e-01,  1.79232582e-01,\n",
       "        1.89883381e-01,  2.00580880e-01,  2.11325824e-01,  2.22117677e-01,\n",
       "        2.32957482e-01,  2.43846342e-01,  2.54783690e-01,  2.65770316e-01,\n",
       "        2.76806653e-01,  2.87892818e-01,  2.99030274e-01,  3.10218483e-01,\n",
       "        3.21458280e-01,  3.32750082e-01,  3.44094068e-01,  3.55491757e-01,\n",
       "        3.66942257e-01,  3.78447473e-01,  3.90006840e-01,  4.01620924e-01,\n",
       "        4.13291276e-01,  4.25017059e-01,  4.36800152e-01,  4.48639780e-01,\n",
       "        4.60537463e-01,  4.72493857e-01,  4.84508455e-01,  4.96583223e-01,\n",
       "        5.08717358e-01,  5.20912468e-01,  5.33169270e-01,  5.45487285e-01,\n",
       "        5.57868481e-01,  5.70312202e-01,  5.82820058e-01,  5.95392346e-01,\n",
       "        6.08029842e-01,  6.20733500e-01,  6.33502901e-01,  6.46339953e-01,\n",
       "        6.59244895e-01,  6.72218442e-01,  6.85261786e-01,  6.98374450e-01,\n",
       "        7.11558044e-01,  7.24814057e-01,  7.38142073e-01,  7.51543343e-01,\n",
       "        7.65018702e-01,  7.78568447e-01,  7.92194724e-01,  8.05896759e-01,\n",
       "        8.19676995e-01,  8.33535135e-01,  8.47472072e-01,  8.61489952e-01,\n",
       "        8.75587940e-01,  8.89768839e-01,  9.04032171e-01,  9.18379009e-01,\n",
       "        9.32811558e-01,  9.47329223e-01,  9.61934626e-01,  9.76627171e-01,\n",
       "        9.91409183e-01,  1.00628173e+00,  1.02124476e+00,  1.03630090e+00,\n",
       "        1.05144978e+00,  1.06669378e+00,  1.08203399e+00,  1.09747052e+00,\n",
       "        1.11300623e+00,  1.12864065e+00,  1.14437628e+00,  1.16021419e+00,\n",
       "        1.17615557e+00,  1.19220233e+00,  1.20835447e+00,  1.22461462e+00,\n",
       "        1.24098408e+00,  1.25746405e+00,  1.27405608e+00,  1.29076183e+00,\n",
       "        1.30758226e+00,  1.32452047e+00,  1.34157670e+00,  1.35875297e+00,\n",
       "        1.37605119e+00,  1.39347231e+00,  1.41101992e+00,  1.42869353e+00,\n",
       "        1.44649720e+00,  1.46443129e+00,  1.48249781e+00,  1.50070012e+00,\n",
       "        1.51903820e+00,  1.53751624e+00,  1.55613482e+00,  1.57489610e+00,\n",
       "        1.59380400e+00,  1.61285841e+00,  1.63206398e+00,  1.65142095e+00,\n",
       "        1.67093325e+00,  1.69060349e+00,  1.71043241e+00,  1.73042524e+00,\n",
       "        1.75058198e+00,  1.77090728e+00,  1.79140401e+00,  1.81207323e+00,\n",
       "        1.83292043e+00,  1.85394597e+00,  1.87515509e+00,  1.89655018e+00,\n",
       "        1.91813457e+00,  1.93991244e+00,  1.96188509e+00,  1.98405826e+00,\n",
       "        2.00643468e+00,  2.02901864e+00,  2.05181336e+00,  2.07482314e+00,\n",
       "        2.09805155e+00,  2.12150455e+00,  2.14518452e+00,  2.16909671e+00,\n",
       "        2.19324589e+00,  2.21763563e+00,  2.24227309e+00,  2.26716065e+00,\n",
       "        2.29230618e+00,  2.31771302e+00,  2.34338641e+00,  2.36933446e+00,\n",
       "        2.39556003e+00,  2.42207217e+00,  2.44887495e+00,  2.47597480e+00,\n",
       "        2.50338054e+00,  2.53109646e+00,  2.55913234e+00,  2.58749247e+00,\n",
       "        2.61618733e+00,  2.64522457e+00,  2.67460990e+00,  2.70435524e+00,\n",
       "        2.73446631e+00,  2.76495457e+00,  2.79582953e+00,  2.82709861e+00,\n",
       "        2.85877562e+00,  2.89086771e+00,  2.92338848e+00,  2.95634890e+00,\n",
       "        2.98976064e+00,  3.02363658e+00,  3.05798960e+00,  3.09283352e+00,\n",
       "        3.12818217e+00,  3.16405106e+00,  3.20045495e+00,  3.23741078e+00,\n",
       "        3.27493501e+00,  3.31304550e+00,  3.35176110e+00,  3.39110088e+00,\n",
       "        3.43108582e+00,  3.47173738e+00,  3.51307774e+00,  3.55512977e+00,\n",
       "        3.59792209e+00,  3.64147711e+00,  3.68582439e+00,  3.73099279e+00,\n",
       "        3.77701211e+00,  3.82391810e+00,  3.87174511e+00,  3.92052722e+00,\n",
       "        3.97030497e+00,  4.02111816e+00,  4.07301426e+00,  4.12603903e+00,\n",
       "        4.18024349e+00,  4.23567820e+00,  4.29240036e+00,  4.35047531e+00,\n",
       "        4.40996695e+00,  4.47094584e+00,  4.53348827e+00,  4.59767675e+00,\n",
       "        4.66360044e+00,  4.73135567e+00,  4.80104685e+00,  4.87278795e+00,\n",
       "        4.94670343e+00,  5.02292919e+00,  5.10161448e+00,  5.18292284e+00,\n",
       "        5.26703548e+00,  5.35415268e+00,  5.44449759e+00,  5.53831768e+00,\n",
       "        5.63589191e+00,  5.73753262e+00,  5.84359407e+00,  5.95447826e+00,\n",
       "        6.07064438e+00,  6.19262123e+00,  6.32102060e+00,  6.45655298e+00,\n",
       "        6.60007095e+00,  6.75255966e+00,  6.91522217e+00,  7.08951235e+00,\n",
       "        7.27721691e+00,  7.48058701e+00,  7.70247602e+00,  7.94658279e+00,\n",
       "        8.21786594e+00,  8.52313328e+00,  8.87215996e+00,  9.27960873e+00,\n",
       "        9.76906490e+00,  1.03820314e+01,  1.12026749e+01,  1.24485912e+01,\n",
       "        1.51281338e+01,             nan,             nan,             nan,\n",
       "                   nan,             nan,             nan,             nan,\n",
       "                   nan,             nan,             nan,             nan,\n",
       "                   nan,             nan,             nan,             nan,\n",
       "                   nan,             nan,             nan,             nan,\n",
       "                   nan,             nan,             nan,             nan,\n",
       "                   nan,             nan,             nan,             nan,\n",
       "                   nan,             nan,             nan,             nan,\n",
       "                   nan,             nan,             nan,             nan,\n",
       "                   nan,             nan,             nan,             nan,\n",
       "                   nan,             nan,             nan,             nan,\n",
       "                   nan,             nan,             nan,             nan,\n",
       "                   nan,             nan,             nan,             nan,\n",
       "                   nan,             nan,             nan,             nan,\n",
       "                   nan,             nan,             nan,             nan,\n",
       "                   nan,             nan,             nan,             nan,\n",
       "                   nan,             nan,             nan,             nan,\n",
       "                   nan,             nan,             nan,             nan,\n",
       "                   nan,             nan,             nan,             nan,\n",
       "                   nan,             nan,             nan,             nan,\n",
       "                   nan,             nan,             nan,             nan,\n",
       "                   nan,             nan,             nan,             nan,\n",
       "                   nan,             nan,             nan,             nan,\n",
       "                   nan,             nan,             nan,             nan,\n",
       "                   nan,             nan,             nan,             nan,\n",
       "                   nan,             nan,             nan,             nan,\n",
       "                   nan,             nan,             nan,             nan,\n",
       "                   nan,             nan,             nan,             nan,\n",
       "                   nan,             nan,             nan,             nan,\n",
       "                   nan,             nan,             nan,             nan,\n",
       "                   nan,             nan,             nan,             nan,\n",
       "                   nan,             nan,             nan,             nan,\n",
       "                   nan,             nan,             nan,             nan,\n",
       "                   nan,             nan,             nan,             nan,\n",
       "                   nan,             nan,             nan,             nan,\n",
       "                   nan,             nan,             nan,             nan,\n",
       "                   nan,             nan,             nan,             nan,\n",
       "                   nan,             nan,             nan,             nan,\n",
       "                   nan,             nan,             nan,             nan,\n",
       "                   nan,             nan,             nan,             nan,\n",
       "                   nan,             nan,             nan,             nan,\n",
       "                   nan,             nan,             nan,             nan,\n",
       "                   nan,             nan,             nan,             nan,\n",
       "                   nan,             nan,             nan,             nan,\n",
       "                   nan,             nan,             nan,             nan,\n",
       "                   nan,             nan,             nan,             nan,\n",
       "                   nan,             nan,             nan,             nan,\n",
       "                   nan,             nan,             nan,             nan,\n",
       "                   nan,             nan,             nan,             nan,\n",
       "                   nan,             nan,             nan,             nan,\n",
       "                   nan,             nan,             nan,             nan,\n",
       "                   nan,             nan,             nan,             nan,\n",
       "                   nan,             nan,             nan,             nan,\n",
       "                   nan,             nan,             nan,             nan,\n",
       "                   nan,             nan,             nan,             nan,\n",
       "                   nan,             nan,             nan,             nan,\n",
       "                   nan,             nan,             nan,             nan,\n",
       "                   nan,             nan,             nan,             nan,\n",
       "                   nan,             nan,             nan,             nan,\n",
       "                   nan,             nan,             nan,             nan,\n",
       "                   nan,             nan,             nan,             nan,\n",
       "                   nan,             nan,             nan,             nan],\n",
       "      dtype=float32)"
      ]
     },
     "execution_count": 110,
     "metadata": {},
     "output_type": "execute_result"
    }
   ],
   "source": [
    "time =-1\n",
    "Ro_max= us/(f_max*h_fn_max)\n",
    "u_max_th = np.zeros_like(z_fn[0])\n",
    "\n",
    "for i,depth in enumerate(z_fn[0]):\n",
    "    u_max_th[i] = Ro_max[time]*np.sin( f_max * t_fn[time])- 1/kappa *np.log((-depth.data/h_fn_max[time])-1)\n",
    "\n",
    "\n",
    "u_max_th\n"
   ]
  },
  {
   "cell_type": "markdown",
   "metadata": {},
   "source": [
    "### Plot de $u$"
   ]
  },
  {
   "cell_type": "code",
   "execution_count": 124,
   "metadata": {},
   "outputs": [
    {
     "data": {
      "text/plain": [
       "[<matplotlib.lines.Line2D at 0x16a7d10a0>]"
      ]
     },
     "execution_count": 124,
     "metadata": {},
     "output_type": "execute_result"
    },
    {
     "data": {
      "image/png": "[encoded data removed]",
      "text/plain": [
       "<Figure size 1000x1000 with 1 Axes>"
      ]
     },
     "metadata": {},
     "output_type": "display_data"
    }
   ],
   "source": [
    "time =-10\n",
    "Ro_max= us/(f_max*h_fn_max)\n",
    "u_max_th = np.zeros_like(z_fn[0])\n",
    "\n",
    "for i,depth in enumerate(z_fn[0]):\n",
    "    #u_max_th[i] = Ro_max[time]*np.sin( f_max * t_fn[time])- 1/kappa *np.log((-depth.data/h_fn_max[time])-1)\n",
    "    u_max_th[i] = - 1/kappa *np.log((-depth.data))+7\n",
    "\n",
    "\n",
    "plt.figure(figsize=(10,10))\n",
    "plt.title('Vertical profil of U')\n",
    "plt.grid()\n",
    "plt.xlabel(r'U [ms$^{-1}$]', fontsize=16)\n",
    "plt.ylabel('z [m]', fontsize=16)\n",
    "plt.xlim([-0.1/us, 0.1/us]); plt.ylim([-40, 0])\n",
    "plt.plot(u_max[time]/us, z_fn[time], '.-', color='b',label=r'tend')\n",
    "plt.plot(u_max_th, z_fn[time], '.-', color='r',label=r'tend')\n"
   ]
  },
  {
   "cell_type": "code",
   "execution_count": null,
   "metadata": {},
   "outputs": [],
   "source": []
  },
  {
   "cell_type": "markdown",
   "metadata": {},
   "source": [
    "### Plot de v"
   ]
  },
  {
   "cell_type": "code",
   "execution_count": 127,
   "metadata": {},
   "outputs": [
    {
     "name": "stderr",
     "output_type": "stream",
     "text": [
      "/Users/maxcoppin/anaconda3/envs/gotm/lib/python3.9/site-packages/xarray/core/computation.py:808: RuntimeWarning: divide by zero encountered in divide\n",
      "  result_data = func(*input_data)\n"
     ]
    },
    {
     "data": {
      "text/plain": [
       "[<matplotlib.lines.Line2D at 0x16a95e7f0>]"
      ]
     },
     "execution_count": 127,
     "metadata": {},
     "output_type": "execute_result"
    },
    {
     "data": {
      "image/png": "[encoded data removed]",
      "text/plain": [
       "<Figure size 1000x1000 with 1 Axes>"
      ]
     },
     "metadata": {},
     "output_type": "display_data"
    }
   ],
   "source": [
    "time =-10\n",
    "Ro_max= us/(f_max*h_fn_max)\n",
    "v_max_th = np.zeros_like(z_fn[0])\n",
    "\n",
    "for i,depth in enumerate(z_fn[0]):\n",
    "   # v_max_th[i] = Ro_max[time]*np.sin( f_max * t_fn[time])- 1/kappa *np.log((-depth.data/h_fn_max[time])-1)\n",
    "    v_max_th[i] = - f_max*us/kappa**2 * (-depth.data)*np.log((-depth.data))\n",
    "\n",
    "\n",
    "plt.figure(figsize=(10,10))\n",
    "plt.title('Vertical profil of V')\n",
    "plt.grid()\n",
    "plt.xlabel(r'V [ms$^{-1}$]', fontsize=16)\n",
    "plt.ylabel('z [m]', fontsize=16)\n",
    "plt.xlim([-0.1/us, 0.1/us]); plt.ylim([-40, 0])\n",
    "plt.plot(v_max[time]/us, z_fn[time], '.-', color='b',label=r'tend')\n",
    "plt.plot(v_max_th, z_fn[time], '.-', color='r',label=r'tend')"
   ]
  },
  {
   "cell_type": "code",
   "execution_count": null,
   "metadata": {},
   "outputs": [],
   "source": []
  }
 ],
 "metadata": {
  "kernelspec": {
   "display_name": "gotm",
   "language": "python",
   "name": "python3"
  },
  "language_info": {
   "codemirror_mode": {
    "name": "ipython",
    "version": 3
   },
   "file_extension": ".py",
   "mimetype": "text/x-python",
   "name": "python",
   "nbconvert_exporter": "python",
   "pygments_lexer": "ipython3",
   "version": "3.9.18"
  }
 },
 "nbformat": 4,
 "nbformat_minor": 2
}
